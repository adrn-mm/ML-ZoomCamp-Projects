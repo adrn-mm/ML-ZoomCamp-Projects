{
 "cells": [
  {
   "cell_type": "markdown",
   "metadata": {},
   "source": [
    "# Import Libraries"
   ]
  },
  {
   "cell_type": "code",
   "execution_count": 19,
   "metadata": {},
   "outputs": [],
   "source": [
    "import pandas as pd\n",
    "import numpy as np\n",
    "import matplotlib.pyplot as plt\n",
    "from sklearn.model_selection import train_test_split\n",
    "from sklearn.metrics import roc_auc_score\n",
    "from sklearn.feature_extraction import DictVectorizer\n",
    "from sklearn.linear_model import LogisticRegression\n",
    "from sklearn.metrics import precision_recall_curve\n",
    "from sklearn.metrics import f1_score\n",
    "from sklearn.model_selection import KFold"
   ]
  },
  {
   "cell_type": "markdown",
   "metadata": {},
   "source": [
    "# Import Dataset"
   ]
  },
  {
   "cell_type": "code",
   "execution_count": 2,
   "metadata": {},
   "outputs": [],
   "source": [
    "df = pd.read_csv('data.csv')"
   ]
  },
  {
   "cell_type": "markdown",
   "metadata": {},
   "source": [
    "# Data Preparation"
   ]
  },
  {
   "cell_type": "code",
   "execution_count": 3,
   "metadata": {},
   "outputs": [
    {
     "data": {
      "text/html": [
       "<div>\n",
       "<style scoped>\n",
       "    .dataframe tbody tr th:only-of-type {\n",
       "        vertical-align: middle;\n",
       "    }\n",
       "\n",
       "    .dataframe tbody tr th {\n",
       "        vertical-align: top;\n",
       "    }\n",
       "\n",
       "    .dataframe thead th {\n",
       "        text-align: right;\n",
       "    }\n",
       "</style>\n",
       "<table border=\"1\" class=\"dataframe\">\n",
       "  <thead>\n",
       "    <tr style=\"text-align: right;\">\n",
       "      <th></th>\n",
       "      <th>make</th>\n",
       "      <th>model</th>\n",
       "      <th>year</th>\n",
       "      <th>engine_hp</th>\n",
       "      <th>engine_cylinders</th>\n",
       "      <th>transmission_type</th>\n",
       "      <th>vehicle_style</th>\n",
       "      <th>highway_mpg</th>\n",
       "      <th>city_mpg</th>\n",
       "      <th>msrp</th>\n",
       "      <th>above_average</th>\n",
       "    </tr>\n",
       "  </thead>\n",
       "  <tbody>\n",
       "    <tr>\n",
       "      <th>0</th>\n",
       "      <td>BMW</td>\n",
       "      <td>1 Series M</td>\n",
       "      <td>2011</td>\n",
       "      <td>335.0</td>\n",
       "      <td>6.0</td>\n",
       "      <td>MANUAL</td>\n",
       "      <td>Coupe</td>\n",
       "      <td>26</td>\n",
       "      <td>19</td>\n",
       "      <td>46135</td>\n",
       "      <td>1</td>\n",
       "    </tr>\n",
       "    <tr>\n",
       "      <th>1</th>\n",
       "      <td>BMW</td>\n",
       "      <td>1 Series</td>\n",
       "      <td>2011</td>\n",
       "      <td>300.0</td>\n",
       "      <td>6.0</td>\n",
       "      <td>MANUAL</td>\n",
       "      <td>Convertible</td>\n",
       "      <td>28</td>\n",
       "      <td>19</td>\n",
       "      <td>40650</td>\n",
       "      <td>1</td>\n",
       "    </tr>\n",
       "    <tr>\n",
       "      <th>2</th>\n",
       "      <td>BMW</td>\n",
       "      <td>1 Series</td>\n",
       "      <td>2011</td>\n",
       "      <td>300.0</td>\n",
       "      <td>6.0</td>\n",
       "      <td>MANUAL</td>\n",
       "      <td>Coupe</td>\n",
       "      <td>28</td>\n",
       "      <td>20</td>\n",
       "      <td>36350</td>\n",
       "      <td>0</td>\n",
       "    </tr>\n",
       "    <tr>\n",
       "      <th>3</th>\n",
       "      <td>BMW</td>\n",
       "      <td>1 Series</td>\n",
       "      <td>2011</td>\n",
       "      <td>230.0</td>\n",
       "      <td>6.0</td>\n",
       "      <td>MANUAL</td>\n",
       "      <td>Coupe</td>\n",
       "      <td>28</td>\n",
       "      <td>18</td>\n",
       "      <td>29450</td>\n",
       "      <td>0</td>\n",
       "    </tr>\n",
       "    <tr>\n",
       "      <th>4</th>\n",
       "      <td>BMW</td>\n",
       "      <td>1 Series</td>\n",
       "      <td>2011</td>\n",
       "      <td>230.0</td>\n",
       "      <td>6.0</td>\n",
       "      <td>MANUAL</td>\n",
       "      <td>Convertible</td>\n",
       "      <td>28</td>\n",
       "      <td>18</td>\n",
       "      <td>34500</td>\n",
       "      <td>0</td>\n",
       "    </tr>\n",
       "  </tbody>\n",
       "</table>\n",
       "</div>"
      ],
      "text/plain": [
       "  make       model  year  engine_hp  engine_cylinders transmission_type  \\\n",
       "0  BMW  1 Series M  2011      335.0               6.0            MANUAL   \n",
       "1  BMW    1 Series  2011      300.0               6.0            MANUAL   \n",
       "2  BMW    1 Series  2011      300.0               6.0            MANUAL   \n",
       "3  BMW    1 Series  2011      230.0               6.0            MANUAL   \n",
       "4  BMW    1 Series  2011      230.0               6.0            MANUAL   \n",
       "\n",
       "  vehicle_style  highway_mpg  city_mpg   msrp  above_average  \n",
       "0         Coupe           26        19  46135              1  \n",
       "1   Convertible           28        19  40650              1  \n",
       "2         Coupe           28        20  36350              0  \n",
       "3         Coupe           28        18  29450              0  \n",
       "4   Convertible           28        18  34500              0  "
      ]
     },
     "execution_count": 3,
     "metadata": {},
     "output_type": "execute_result"
    }
   ],
   "source": [
    "df = df[['Make', 'Model', 'Year', 'Engine HP', 'Engine Cylinders',\n",
    "          'Transmission Type', 'Vehicle Style', 'highway MPG', 'city mpg', 'MSRP']]\n",
    "df.columns = df.columns.str.replace(' ', '_').str.lower()\n",
    "df.fillna(0, inplace=True)\n",
    "mean_price = df['msrp'].mean()\n",
    "df['above_average']=(df['msrp'] > mean_price).astype(int)\n",
    "df.head()   "
   ]
  },
  {
   "cell_type": "markdown",
   "metadata": {},
   "source": [
    "# Split Dataset"
   ]
  },
  {
   "cell_type": "code",
   "execution_count": 4,
   "metadata": {},
   "outputs": [],
   "source": [
    "seed = 1\n",
    "df_train, df_temp = train_test_split(df, test_size=0.4, random_state=seed)\n",
    "df_val, df_test = train_test_split(df_temp, test_size=0.2, random_state=seed)\n",
    "\n",
    "# def extract_features_target(dataset):\n",
    "#     X = dataset.drop(columns=['price'])\n",
    "#     y = dataset['price']\n",
    "#     return X, y\n",
    "# X_train, y_train = extract_features_target(train_df)\n",
    "# X_val, y_val = extract_features_target(val_df)\n",
    "# X_test, y_test = extract_features_target(test_df)"
   ]
  },
  {
   "cell_type": "markdown",
   "metadata": {},
   "source": [
    "# Question 1"
   ]
  },
  {
   "cell_type": "code",
   "execution_count": 8,
   "metadata": {},
   "outputs": [
    {
     "name": "stdout",
     "output_type": "stream",
     "text": [
      "msrp: 1.0\n",
      "engine_hp: 0.9159001518508375\n",
      "engine_cylinders: 0.768274900593613\n",
      "year: 0.6943018002799936\n",
      "city_mpg: 0.67232674562278\n",
      "highway_mpg: 0.6333685399678282\n"
     ]
    }
   ],
   "source": [
    "# Pilih hanya kolom-kolom dengan tipe data numerik\n",
    "numerical_columns = df_train.select_dtypes(include=['number']).columns\n",
    "\n",
    "# List untuk menyimpan nama kolom dan AUC mereka\n",
    "auc_values = []\n",
    "# Loop melalui setiap kolom numerik untuk menghitung AUC\n",
    "for col in numerical_columns:\n",
    "    # Jangan gunakan variabel target itu sendiri\n",
    "    if col == 'above_average':\n",
    "        continue\n",
    "    \n",
    "    # Hitung AUC\n",
    "    auc = roc_auc_score(df_train['above_average'], df_train[col])\n",
    "    \n",
    "    # Jika AUC < 0.5, balik arah korelasi\n",
    "    if auc < 0.5:\n",
    "        df_train[col] = -df_train[col]\n",
    "        auc = 1 - auc  # Update nilai AUC\n",
    "    \n",
    "    # Menyimpan nama kolom dan AUC-nya\n",
    "    auc_values.append((col, auc))\n",
    "\n",
    "# Urutkan berdasarkan AUC tertinggi\n",
    "sorted_auc_values = sorted(auc_values, key=lambda x: x[1], reverse=True)\n",
    "\n",
    "# Cetak nilai AUC untuk setiap kolom\n",
    "for col, auc in sorted_auc_values:\n",
    "    print(f\"{col}: {auc}\")"
   ]
  },
  {
   "cell_type": "markdown",
   "metadata": {},
   "source": [
    "Among the option, the numerical variable with the highest AUC is **engine_hp**"
   ]
  },
  {
   "cell_type": "markdown",
   "metadata": {},
   "source": [
    "# Question 2"
   ]
  },
  {
   "cell_type": "code",
   "execution_count": 11,
   "metadata": {},
   "outputs": [
    {
     "name": "stdout",
     "output_type": "stream",
     "text": [
      "The AUC of the model on the validation dataset is: 0.9999982779522786\n"
     ]
    }
   ],
   "source": [
    "# Tentukan kolom target\n",
    "target = 'above_average'\n",
    "\n",
    "# Konversi ke dictionary\n",
    "train_dict = df_train.drop(columns=[target]).to_dict(orient='records')\n",
    "val_dict = df_val.drop(columns=[target]).to_dict(orient='records')\n",
    "\n",
    "# Apply One-Hot Encoding\n",
    "dv = DictVectorizer(sparse=False)\n",
    "X_train = dv.fit_transform(train_dict)\n",
    "X_val = dv.transform(val_dict)\n",
    "\n",
    "# Label target\n",
    "y_train = df_train[target].values\n",
    "y_val = df_val[target].values\n",
    "\n",
    "# Train the logistic regression model\n",
    "model = LogisticRegression(solver='liblinear', C=1.0, max_iter=1000)\n",
    "model.fit(X_train, y_train)\n",
    "\n",
    "# Prediksi probabilitas kelas positif\n",
    "y_pred_val = model.predict_proba(X_val)[:, 1]\n",
    "\n",
    "# Hitung AUC pada dataset validasi\n",
    "auc = roc_auc_score(y_val, y_pred_val)\n",
    "\n",
    "# Bulatkan AUC ke 3 angka desimal\n",
    "# rounded_auc = round(auc, 3)\n",
    "\n",
    "print(f\"The AUC of the model on the validation dataset is: {auc}\")"
   ]
  },
  {
   "cell_type": "markdown",
   "metadata": {},
   "source": [
    "The closest AUC on the validatio dataset is *0.979*"
   ]
  },
  {
   "cell_type": "markdown",
   "metadata": {},
   "source": [
    "# Question 3"
   ]
  },
  {
   "cell_type": "code",
   "execution_count": 13,
   "metadata": {},
   "outputs": [
    {
     "data": {
      "image/png": "[encoded data removed]",
      "text/plain": [
       "<Figure size 1000x600 with 1 Axes>"
      ]
     },
     "metadata": {},
     "output_type": "display_data"
    },
    {
     "name": "stdout",
     "output_type": "stream",
     "text": [
      "The curves intersect at threshold: 0.4723468544113183\n"
     ]
    }
   ],
   "source": [
    "# Menghitung precision dan recall untuk setiap threshold\n",
    "precision, recall, thresholds = precision_recall_curve(y_val, y_pred_val)\n",
    "\n",
    "# Menambahkan threshold 1.0 ke akhir array thresholds\n",
    "thresholds = np.append(thresholds, 1)\n",
    "\n",
    "# Plot\n",
    "plt.figure(figsize=(10, 6))\n",
    "plt.plot(thresholds, precision, label='Precision')\n",
    "plt.plot(thresholds, recall, label='Recall')\n",
    "plt.xlabel('Threshold')\n",
    "plt.ylabel('Value')\n",
    "plt.title('Precision and Recall at different thresholds')\n",
    "plt.legend()\n",
    "plt.show()\n",
    "\n",
    "# Menemukan titik potong antara precision dan recall\n",
    "intersect_thresholds = thresholds[np.argmin(np.abs(precision - recall))]\n",
    "print(f\"The curves intersect at threshold: {intersect_thresholds}\")"
   ]
  },
  {
   "cell_type": "markdown",
   "metadata": {},
   "source": [
    "The closest threshold precision and recall curves intersect is **0.48**"
   ]
  },
  {
   "cell_type": "markdown",
   "metadata": {},
   "source": [
    "# Question 4"
   ]
  },
  {
   "cell_type": "code",
   "execution_count": 17,
   "metadata": {},
   "outputs": [
    {
     "name": "stdout",
     "output_type": "stream",
     "text": [
      "Maximal F1 score is 0.9990503323836657 at threshold 0.42\n"
     ]
    }
   ],
   "source": [
    "# Inisialisasi variabel\n",
    "max_f1 = 0\n",
    "threshold_at_max_f1 = 0\n",
    "f1_scores = []\n",
    "\n",
    "# Menghitung F1 untuk semua ambang batas\n",
    "for t in np.arange(0.0, 1.01, 0.01):\n",
    "    y_pred = (y_pred_val >= t).astype(int)\n",
    "    f1 = f1_score(y_val, y_pred)\n",
    "    f1_scores.append(f1)\n",
    "    \n",
    "    if f1 > max_f1:\n",
    "        max_f1 = f1\n",
    "        threshold_at_max_f1 = t\n",
    "\n",
    "print(f\"Maximal F1 score is {max_f1} at threshold {threshold_at_max_f1}\")"
   ]
  },
  {
   "cell_type": "code",
   "execution_count": 21,
   "metadata": {},
   "outputs": [
    {
     "name": "stdout",
     "output_type": "stream",
     "text": [
      "AUC scores for each fold: [1.0, 0.9999805825242718, 0.9999899067382615, 1.0, 1.0]\n",
      "Standard deviation of AUC scores across different folds: 7.806863275496692e-06\n"
     ]
    }
   ],
   "source": [
    "# Inisialisasi\n",
    "kfold = KFold(n_splits=5, shuffle=True, random_state=1)\n",
    "target = 'above_average'\n",
    "auc_scores = []\n",
    "\n",
    "df_full_train = df_train.copy()\n",
    "\n",
    "# One-hot encoding\n",
    "dv = DictVectorizer(sparse=False)\n",
    "df_dict = df_full_train.drop(columns=[target]).to_dict(orient='records')\n",
    "X_full_train = dv.fit_transform(df_dict)\n",
    "y_full_train = df_full_train[target].values\n",
    "\n",
    "# Iterasi melalui fold\n",
    "for train_index, val_index in kfold.split(X_full_train):\n",
    "    # Membagi data\n",
    "    X_train, X_val = X_full_train[train_index], X_full_train[val_index]\n",
    "    y_train, y_val = y_full_train[train_index], y_full_train[val_index]\n",
    "    \n",
    "    # Melatih model\n",
    "    model = LogisticRegression(solver='liblinear', C=1.0, max_iter=1000)\n",
    "    model.fit(X_train, y_train)\n",
    "    \n",
    "    # Evaluasi model\n",
    "    y_pred = model.predict_proba(X_val)[:, 1]\n",
    "    auc = roc_auc_score(y_val, y_pred)\n",
    "    auc_scores.append(auc)\n",
    "\n",
    "# Menghitung deviasi standar dari skor AUC\n",
    "std_dev = np.std(auc_scores)\n",
    "\n",
    "print(f\"AUC scores for each fold: {auc_scores}\")\n",
    "print(f\"Standard deviation of AUC scores across different folds: {std_dev}\")\n"
   ]
  },
  {
   "cell_type": "code",
   "execution_count": 22,
   "metadata": {},
   "outputs": [
    {
     "name": "stdout",
     "output_type": "stream",
     "text": [
      "C: 0.01, Mean AUC: 1.0, Std: 0.0\n",
      "C: 0.1, Mean AUC: 1.0, Std: 0.0\n",
      "C: 0.5, Mean AUC: 1.0, Std: 0.0\n",
      "C: 10, Mean AUC: 1.0, Std: 0.0\n",
      "The best C is 0.01 with Mean AUC: 1.0 and Std: 0.0\n"
     ]
    }
   ],
   "source": [
    "# Parameter\n",
    "Cs = [0.01, 0.1, 0.5, 10]\n",
    "kfold = KFold(n_splits=5, shuffle=True, random_state=1)\n",
    "target = 'above_average'\n",
    "\n",
    "# One-hot encoding\n",
    "dv = DictVectorizer(sparse=False)\n",
    "df_dict = df_full_train.drop(columns=[target]).to_dict(orient='records')\n",
    "X_full_train = dv.fit_transform(df_dict)\n",
    "y_full_train = df_full_train[target].values\n",
    "\n",
    "# Inisialisasi variabel\n",
    "best_mean_score = 0\n",
    "best_C = None\n",
    "best_std = None\n",
    "\n",
    "# Iterasi melalui nilai C\n",
    "for C in Cs:\n",
    "    auc_scores = []\n",
    "    \n",
    "    # Iterasi melalui fold\n",
    "    for train_index, val_index in kfold.split(X_full_train):\n",
    "        # Membagi data\n",
    "        X_train, X_val = X_full_train[train_index], X_full_train[val_index]\n",
    "        y_train, y_val = y_full_train[train_index], y_full_train[val_index]\n",
    "        \n",
    "        # Melatih model\n",
    "        model = LogisticRegression(solver='liblinear', C=C, max_iter=1000)\n",
    "        model.fit(X_train, y_train)\n",
    "        \n",
    "        # Evaluasi model\n",
    "        y_pred = model.predict_proba(X_val)[:, 1]\n",
    "        auc = roc_auc_score(y_val, y_pred)\n",
    "        auc_scores.append(auc)\n",
    "        \n",
    "    # Menghitung mean dan std\n",
    "    mean_score = np.mean(auc_scores)\n",
    "    std_dev = np.std(auc_scores)\n",
    "    mean_score = round(mean_score, 3)\n",
    "    std_dev = round(std_dev, 3)\n",
    "    \n",
    "    print(f\"C: {C}, Mean AUC: {mean_score}, Std: {std_dev}\")\n",
    "    \n",
    "    if mean_score > best_mean_score or (mean_score == best_mean_score and std_dev < best_std):\n",
    "        best_mean_score = mean_score\n",
    "        best_std = std_dev\n",
    "        best_C = C\n",
    "\n",
    "print(f\"The best C is {best_C} with Mean AUC: {best_mean_score} and Std: {best_std}\")"
   ]
  }
 ],
 "metadata": {
  "kernelspec": {
   "display_name": ".venv",
   "language": "python",
   "name": "python3"
  },
  "language_info": {
   "codemirror_mode": {
    "name": "ipython",
    "version": 3
   },
   "file_extension": ".py",
   "mimetype": "text/x-python",
   "name": "python",
   "nbconvert_exporter": "python",
   "pygments_lexer": "ipython3",
   "version": "3.8.10"
  },
  "orig_nbformat": 4
 },
 "nbformat": 4,
 "nbformat_minor": 2
}

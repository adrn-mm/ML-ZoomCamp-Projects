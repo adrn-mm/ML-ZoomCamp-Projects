{
  "nbformat": 4,
  "nbformat_minor": 0,
  "metadata": {
    "colab": {
      "provenance": []
    },
    "kernelspec": {
      "name": "python3",
      "display_name": "Python 3"
    },
    "language_info": {
      "name": "python"
    }
  },
  "cells": [
    {
      "cell_type": "markdown",
      "source": [
        "# Download Datasets"
      ],
      "metadata": {
        "id": "t7V5nsPoWy65"
      }
    },
    {
      "cell_type": "code",
      "source": [
        "# !wget https://github.com/SVizor42/ML_Zoomcamp/releases/download/bee-wasp-data/data.zip\n",
        "# !unzip data.zip"
      ],
      "metadata": {
        "id": "nDcYTnbgWyv4"
      },
      "execution_count": 1,
      "outputs": []
    },
    {
      "cell_type": "markdown",
      "source": [
        "# Import Libraries"
      ],
      "metadata": {
        "id": "cbugnZR0Wk-L"
      }
    },
    {
      "cell_type": "code",
      "execution_count": 2,
      "metadata": {
        "id": "PwCFKLz6Wh5X"
      },
      "outputs": [],
      "source": [
        "# Import necessary libraries\n",
        "from keras.models import Sequential\n",
        "from keras.layers import Conv2D, MaxPooling2D, Flatten, Dense\n",
        "from keras.optimizers import SGD\n",
        "from keras.preprocessing.image import ImageDataGenerator"
      ]
    },
    {
      "cell_type": "markdown",
      "source": [
        "# Import Datasets"
      ],
      "metadata": {
        "id": "aE-qR0zZcLRK"
      }
    },
    {
      "cell_type": "code",
      "source": [
        "# Define your directories\n",
        "train_dir = '/content/data/train'\n",
        "test_dir = '/content/data/test'"
      ],
      "metadata": {
        "id": "1HVShvlEcG4s"
      },
      "execution_count": 3,
      "outputs": []
    },
    {
      "cell_type": "code",
      "source": [
        "# Initialize the ImageDataGenerators\n",
        "train_datagen = ImageDataGenerator(rescale=1./255)\n",
        "test_datagen = ImageDataGenerator(rescale=1./255)"
      ],
      "metadata": {
        "id": "NMEC2evpcOMm"
      },
      "execution_count": 4,
      "outputs": []
    },
    {
      "cell_type": "code",
      "source": [
        "# Set up the generators\n",
        "train_generator = train_datagen.flow_from_directory(\n",
        "    train_dir,\n",
        "    target_size=(150, 150),\n",
        "    batch_size=20,\n",
        "    class_mode='binary',\n",
        "    shuffle=True\n",
        ")\n",
        "\n",
        "test_generator = test_datagen.flow_from_directory(\n",
        "    test_dir,\n",
        "    target_size=(150, 150),\n",
        "    batch_size=20,\n",
        "    class_mode='binary',\n",
        "    shuffle=True\n",
        ")"
      ],
      "metadata": {
        "colab": {
          "base_uri": "https://localhost:8080/"
        },
        "id": "RT7zMn3ccXvn",
        "outputId": "51eebaeb-2f23-4110-ac24-c76c949a4857"
      },
      "execution_count": 5,
      "outputs": [
        {
          "output_type": "stream",
          "name": "stdout",
          "text": [
            "Found 3677 images belonging to 2 classes.\n",
            "Found 918 images belonging to 2 classes.\n"
          ]
        }
      ]
    },
    {
      "cell_type": "markdown",
      "source": [
        "# Initialize the CNN Model"
      ],
      "metadata": {
        "id": "GOnoL5qLW_LO"
      }
    },
    {
      "cell_type": "code",
      "source": [
        "model = Sequential()"
      ],
      "metadata": {
        "id": "wQqr1BnEWpj_"
      },
      "execution_count": 6,
      "outputs": []
    },
    {
      "cell_type": "markdown",
      "source": [
        "# Customize the CNN Model"
      ],
      "metadata": {
        "id": "-r7jWKTCXFpk"
      }
    },
    {
      "cell_type": "code",
      "source": [
        "# Add a Conv2D layer\n",
        "model.add(Conv2D(32,\n",
        "                 (3, 3),\n",
        "                 input_shape=(150, 150, 3),\n",
        "                 activation='relu'))\n"
      ],
      "metadata": {
        "id": "2B7xlWrIXErY"
      },
      "execution_count": 7,
      "outputs": []
    },
    {
      "cell_type": "code",
      "source": [
        "# Add a MaxPooling2D layer\n",
        "model.add(MaxPooling2D(pool_size=(2, 2)))"
      ],
      "metadata": {
        "id": "MHSrd2CDX5F-"
      },
      "execution_count": 8,
      "outputs": []
    },
    {
      "cell_type": "code",
      "source": [
        "# Flatten the tensor output\n",
        "model.add(Flatten())"
      ],
      "metadata": {
        "id": "W6p9x2wScouL"
      },
      "execution_count": 9,
      "outputs": []
    },
    {
      "cell_type": "code",
      "source": [
        "# Add a Dense layer\n",
        "model.add(Dense(64, activation='relu'))"
      ],
      "metadata": {
        "id": "x14NBd-vcqaA"
      },
      "execution_count": 10,
      "outputs": []
    },
    {
      "cell_type": "code",
      "source": [
        "# Add an output layer\n",
        "model.add(Dense(1, activation='sigmoid'))"
      ],
      "metadata": {
        "id": "qFbVAWGkcru8"
      },
      "execution_count": 11,
      "outputs": []
    },
    {
      "cell_type": "code",
      "source": [
        "# Compile the model\n",
        "sgd = SGD(lr=0.002, momentum=0.8)\n",
        "model.compile(optimizer=sgd, loss='binary_crossentropy', metrics=['accuracy'])"
      ],
      "metadata": {
        "colab": {
          "base_uri": "https://localhost:8080/"
        },
        "id": "HF-cINcfctL_",
        "outputId": "2670d336-bf43-429c-d56b-2e1b778fae68"
      },
      "execution_count": 12,
      "outputs": [
        {
          "output_type": "stream",
          "name": "stderr",
          "text": [
            "WARNING:absl:`lr` is deprecated in Keras optimizer, please use `learning_rate` or use the legacy optimizer, e.g.,tf.keras.optimizers.legacy.SGD.\n"
          ]
        }
      ]
    },
    {
      "cell_type": "markdown",
      "source": [
        "# Train the CNN Model"
      ],
      "metadata": {
        "id": "EouUcA0CcvSC"
      }
    },
    {
      "cell_type": "code",
      "source": [
        "# Train the model\n",
        "history = model.fit(\n",
        "    train_generator,\n",
        "    epochs=10,  # adjust according to your need\n",
        "    validation_data=test_generator,\n",
        ")\n"
      ],
      "metadata": {
        "colab": {
          "base_uri": "https://localhost:8080/"
        },
        "id": "L1Xx3tYxcxgd",
        "outputId": "f9fc0286-9d35-42e4-ddc8-38e5a15dae54"
      },
      "execution_count": 13,
      "outputs": [
        {
          "output_type": "stream",
          "name": "stdout",
          "text": [
            "Epoch 1/10\n",
            "184/184 [==============================] - 94s 493ms/step - loss: 0.6715 - accuracy: 0.5910 - val_loss: 0.6190 - val_accuracy: 0.6961\n",
            "Epoch 2/10\n",
            "184/184 [==============================] - 85s 461ms/step - loss: 0.6293 - accuracy: 0.6478 - val_loss: 0.6011 - val_accuracy: 0.6841\n",
            "Epoch 3/10\n",
            "184/184 [==============================] - 90s 490ms/step - loss: 0.5707 - accuracy: 0.7114 - val_loss: 0.5310 - val_accuracy: 0.7429\n",
            "Epoch 4/10\n",
            "184/184 [==============================] - 84s 459ms/step - loss: 0.5167 - accuracy: 0.7463 - val_loss: 0.5388 - val_accuracy: 0.7190\n",
            "Epoch 5/10\n",
            "184/184 [==============================] - 86s 469ms/step - loss: 0.4246 - accuracy: 0.8143 - val_loss: 0.5509 - val_accuracy: 0.7538\n",
            "Epoch 6/10\n",
            "184/184 [==============================] - 90s 485ms/step - loss: 0.3189 - accuracy: 0.8733 - val_loss: 0.5652 - val_accuracy: 0.7386\n",
            "Epoch 7/10\n",
            "184/184 [==============================] - 86s 469ms/step - loss: 0.2263 - accuracy: 0.9165 - val_loss: 0.6952 - val_accuracy: 0.7092\n",
            "Epoch 8/10\n",
            "184/184 [==============================] - 91s 495ms/step - loss: 0.1701 - accuracy: 0.9434 - val_loss: 1.0201 - val_accuracy: 0.7200\n",
            "Epoch 9/10\n",
            "184/184 [==============================] - 85s 465ms/step - loss: 0.1014 - accuracy: 0.9685 - val_loss: 0.8955 - val_accuracy: 0.7397\n",
            "Epoch 10/10\n",
            "184/184 [==============================] - 91s 496ms/step - loss: 0.0659 - accuracy: 0.9856 - val_loss: 1.0729 - val_accuracy: 0.7081\n"
          ]
        }
      ]
    },
    {
      "cell_type": "markdown",
      "source": [
        "# Question 2"
      ],
      "metadata": {
        "id": "chNPwHrPkemK"
      }
    },
    {
      "cell_type": "code",
      "source": [
        "model.summary()"
      ],
      "metadata": {
        "colab": {
          "base_uri": "https://localhost:8080/"
        },
        "id": "_GVWm7UQkfo2",
        "outputId": "bce1d696-91d5-47c1-815c-fa51b6092fc1"
      },
      "execution_count": 14,
      "outputs": [
        {
          "output_type": "stream",
          "name": "stdout",
          "text": [
            "Model: \"sequential\"\n",
            "_________________________________________________________________\n",
            " Layer (type)                Output Shape              Param #   \n",
            "=================================================================\n",
            " conv2d (Conv2D)             (None, 148, 148, 32)      896       \n",
            "                                                                 \n",
            " max_pooling2d (MaxPooling2  (None, 74, 74, 32)        0         \n",
            " D)                                                              \n",
            "                                                                 \n",
            " flatten (Flatten)           (None, 175232)            0         \n",
            "                                                                 \n",
            " dense (Dense)               (None, 64)                11214912  \n",
            "                                                                 \n",
            " dense_1 (Dense)             (None, 1)                 65        \n",
            "                                                                 \n",
            "=================================================================\n",
            "Total params: 11215873 (42.79 MB)\n",
            "Trainable params: 11215873 (42.79 MB)\n",
            "Non-trainable params: 0 (0.00 Byte)\n",
            "_________________________________________________________________\n"
          ]
        }
      ]
    },
    {
      "cell_type": "markdown",
      "source": [
        "# Question 3"
      ],
      "metadata": {
        "id": "cqWcMgfMkzXE"
      }
    },
    {
      "cell_type": "code",
      "source": [
        "import numpy as np\n",
        "\n",
        "# Assuming 'history' is the output of the fit()/fit_generator() function\n",
        "# history = model.fit(x_train, y_train, epochs=... , validation_data=(x_val, y_val))\n",
        "\n",
        "# Get the history of training accuracies\n",
        "accuracies = history.history['accuracy']\n",
        "\n",
        "# Calculate the median\n",
        "median_accuracy = np.median(accuracies)\n",
        "\n",
        "print('Median training accuracy: ', median_accuracy)\n"
      ],
      "metadata": {
        "colab": {
          "base_uri": "https://localhost:8080/"
        },
        "id": "hpuKY3Urkjkh",
        "outputId": "c2ea38ae-5059-43ac-d4fc-7a1ebe78f8e4"
      },
      "execution_count": 15,
      "outputs": [
        {
          "output_type": "stream",
          "name": "stdout",
          "text": [
            "Median training accuracy:  0.8437584936618805\n"
          ]
        }
      ]
    },
    {
      "cell_type": "markdown",
      "source": [
        "# Question 4"
      ],
      "metadata": {
        "id": "HfFqo5OOlF-p"
      }
    },
    {
      "cell_type": "code",
      "source": [
        "import numpy as np\n",
        "\n",
        "# Assuming 'history' is the output of the fit()/fit_generator() function\n",
        "# history = model.fit(x_train, y_train, epochs=... , validation_data=(x_val, y_val))\n",
        "\n",
        "# Get the history of training losses\n",
        "losses = history.history['loss']\n",
        "\n",
        "# Calculate the standard deviation\n",
        "std_dev_loss = np.std(losses)\n",
        "\n",
        "print('Standard deviation of training loss: ', std_dev_loss)"
      ],
      "metadata": {
        "colab": {
          "base_uri": "https://localhost:8080/"
        },
        "id": "dOj07iQclG15",
        "outputId": "7bdcf3f9-482e-4ecc-8197-f9a42b515447"
      },
      "execution_count": 16,
      "outputs": [
        {
          "output_type": "stream",
          "name": "stdout",
          "text": [
            "Standard deviation of training loss:  0.21232684717013411\n"
          ]
        }
      ]
    },
    {
      "cell_type": "markdown",
      "source": [
        "# Data Augmentation"
      ],
      "metadata": {
        "id": "3woVrz9xlVp8"
      }
    },
    {
      "cell_type": "code",
      "source": [
        "from keras.preprocessing.image import ImageDataGenerator\n",
        "\n",
        "# Initialize the ImageDataGenerator with the specified augmentations\n",
        "train_datagen = ImageDataGenerator(\n",
        "    rescale=1./255,\n",
        "    rotation_range=50,\n",
        "    width_shift_range=0.1,\n",
        "    height_shift_range=0.1,\n",
        "    zoom_range=0.1,\n",
        "    horizontal_flip=True,\n",
        "    fill_mode='nearest'\n",
        ")\n",
        "\n",
        "# Set up the generator\n",
        "train_generator = train_datagen.flow_from_directory(\n",
        "    train_dir,\n",
        "    target_size=(150, 150),\n",
        "    batch_size=32,\n",
        "    class_mode='binary'\n",
        ")"
      ],
      "metadata": {
        "colab": {
          "base_uri": "https://localhost:8080/"
        },
        "id": "Dt0F_Bd-lW1o",
        "outputId": "4a6a0a3c-1588-4dab-a6a3-cc2e8e82bce7"
      },
      "execution_count": 17,
      "outputs": [
        {
          "output_type": "stream",
          "name": "stdout",
          "text": [
            "Found 3677 images belonging to 2 classes.\n"
          ]
        }
      ]
    },
    {
      "cell_type": "code",
      "source": [
        "# Assuming 'validation_generator' is your validation data generator\n",
        "history = model.fit(\n",
        "    train_generator,\n",
        "    steps_per_epoch=100,  # Adjust based on your dataset\n",
        "    epochs=10,\n",
        "    validation_data=test_generator,\n",
        "    validation_steps=50  # Adjust based on your dataset\n",
        ")"
      ],
      "metadata": {
        "colab": {
          "base_uri": "https://localhost:8080/"
        },
        "id": "FXUE-t3Fv34F",
        "outputId": "cd716dd7-46d6-41f9-a3e0-f3bd08cee913"
      },
      "execution_count": 20,
      "outputs": [
        {
          "output_type": "stream",
          "name": "stdout",
          "text": [
            "Epoch 1/10\n",
            "100/100 [==============================] - ETA: 0s - loss: 0.4582 - accuracy: 0.7926"
          ]
        },
        {
          "output_type": "stream",
          "name": "stderr",
          "text": [
            "WARNING:tensorflow:Your input ran out of data; interrupting training. Make sure that your dataset or generator can generate at least `steps_per_epoch * epochs` batches (in this case, 50 batches). You may need to use the repeat() function when building your dataset.\n"
          ]
        },
        {
          "output_type": "stream",
          "name": "stdout",
          "text": [
            "\b\b\b\b\b\b\b\b\b\b\b\b\b\b\b\b\b\b\b\b\b\b\b\b\b\b\b\b\b\b\b\b\b\b\b\b\b\b\b\b\b\b\b\b\b\b\b\b\b\b\b\b\b\b\b\b\b\b\b\b\b\b\b\b\b\b\b\b\b\b\b\b\b\b\b\b\b\b\b\b\b\b\b\b\r100/100 [==============================] - 91s 912ms/step - loss: 0.4582 - accuracy: 0.7926 - val_loss: 0.5584 - val_accuracy: 0.7680\n",
            "Epoch 2/10\n",
            "100/100 [==============================] - 80s 801ms/step - loss: 0.4480 - accuracy: 0.7995\n",
            "Epoch 3/10\n",
            "100/100 [==============================] - 83s 821ms/step - loss: 0.4361 - accuracy: 0.8058\n",
            "Epoch 4/10\n",
            "100/100 [==============================] - 80s 798ms/step - loss: 0.4379 - accuracy: 0.8123\n",
            "Epoch 5/10\n",
            "100/100 [==============================] - 80s 797ms/step - loss: 0.4393 - accuracy: 0.8076\n",
            "Epoch 6/10\n",
            "100/100 [==============================] - 82s 810ms/step - loss: 0.4296 - accuracy: 0.8045\n",
            "Epoch 7/10\n",
            "100/100 [==============================] - 80s 800ms/step - loss: 0.4384 - accuracy: 0.7962\n",
            "Epoch 8/10\n",
            "100/100 [==============================] - 82s 820ms/step - loss: 0.4310 - accuracy: 0.8033\n",
            "Epoch 9/10\n",
            "100/100 [==============================] - 82s 821ms/step - loss: 0.4260 - accuracy: 0.8145\n",
            "Epoch 10/10\n",
            "100/100 [==============================] - 82s 816ms/step - loss: 0.4187 - accuracy: 0.8120\n"
          ]
        }
      ]
    },
    {
      "cell_type": "code",
      "source": [
        "import numpy as np\n",
        "\n",
        "# Assuming 'history' is the output of the fit()/fit_generator() function\n",
        "# history = model.fit(train_generator, steps_per_epoch=100, epochs=10)\n",
        "\n",
        "# Get the history of validation losses (test loss)\n",
        "val_losses = history.history['val_loss']\n",
        "\n",
        "# Calculate the mean\n",
        "mean_val_loss = np.mean(val_losses)\n",
        "\n",
        "print('Mean validation (test) loss: ', mean_val_loss)"
      ],
      "metadata": {
        "colab": {
          "base_uri": "https://localhost:8080/"
        },
        "id": "45PyzSkVnQ1d",
        "outputId": "7f2f8d7a-3fa6-468d-db88-782183b801e3"
      },
      "execution_count": 21,
      "outputs": [
        {
          "output_type": "stream",
          "name": "stdout",
          "text": [
            "Mean validation (test) loss:  0.5583930015563965\n"
          ]
        }
      ]
    },
    {
      "cell_type": "markdown",
      "source": [
        "# Question 6"
      ],
      "metadata": {
        "id": "BPAVFDEinZsu"
      }
    },
    {
      "cell_type": "code",
      "source": [
        "import numpy as np\n",
        "\n",
        "# Assuming 'history' is the output of the fit()/fit_generator() function\n",
        "# history = model.fit(train_generator, steps_per_epoch=100, epochs=10)\n",
        "\n",
        "# Get the history of validation accuracies (test accuracy)\n",
        "val_accuracies = history.history['val_accuracy']\n",
        "\n",
        "# Get the last 5 epochs\n",
        "last_five_epochs = val_accuracies[-5:]\n",
        "\n",
        "# Calculate the mean\n",
        "mean_val_accuracy = np.mean(last_five_epochs)\n",
        "\n",
        "print('Mean validation (test) accuracy for the last 5 epochs: ', mean_val_accuracy)"
      ],
      "metadata": {
        "colab": {
          "base_uri": "https://localhost:8080/"
        },
        "id": "0HcVSdsynczX",
        "outputId": "1008e7e2-74b8-4346-e405-ee15b5daaf98"
      },
      "execution_count": 22,
      "outputs": [
        {
          "output_type": "stream",
          "name": "stdout",
          "text": [
            "Mean validation (test) accuracy for the last 5 epochs:  0.7679738402366638\n"
          ]
        }
      ]
    }
  ]
}
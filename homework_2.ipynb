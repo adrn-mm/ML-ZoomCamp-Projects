{
 "cells": [
  {
   "cell_type": "markdown",
   "metadata": {},
   "source": [
    ">The goal of this homework is to create a regression model for predicting housing prices (column 'median_house_value')."
   ]
  },
  {
   "cell_type": "markdown",
   "metadata": {},
   "source": [
    "# Import the libraries needed"
   ]
  },
  {
   "cell_type": "code",
   "execution_count": 1,
   "metadata": {},
   "outputs": [],
   "source": [
    "import pandas as pd\n",
    "import numpy as np\n",
    "import matplotlib.pyplot as plt\n",
    "from sklearn.linear_model import LinearRegression\n",
    "from sklearn.metrics import mean_squared_error"
   ]
  },
  {
   "cell_type": "markdown",
   "metadata": {},
   "source": [
    "# Import the data"
   ]
  },
  {
   "cell_type": "code",
   "execution_count": 2,
   "metadata": {},
   "outputs": [
    {
     "data": {
      "text/html": [
       "<div>\n",
       "<style scoped>\n",
       "    .dataframe tbody tr th:only-of-type {\n",
       "        vertical-align: middle;\n",
       "    }\n",
       "\n",
       "    .dataframe tbody tr th {\n",
       "        vertical-align: top;\n",
       "    }\n",
       "\n",
       "    .dataframe thead th {\n",
       "        text-align: right;\n",
       "    }\n",
       "</style>\n",
       "<table border=\"1\" class=\"dataframe\">\n",
       "  <thead>\n",
       "    <tr style=\"text-align: right;\">\n",
       "      <th></th>\n",
       "      <th>longitude</th>\n",
       "      <th>latitude</th>\n",
       "      <th>housing_median_age</th>\n",
       "      <th>total_rooms</th>\n",
       "      <th>total_bedrooms</th>\n",
       "      <th>population</th>\n",
       "      <th>households</th>\n",
       "      <th>median_income</th>\n",
       "      <th>median_house_value</th>\n",
       "      <th>ocean_proximity</th>\n",
       "    </tr>\n",
       "  </thead>\n",
       "  <tbody>\n",
       "    <tr>\n",
       "      <th>0</th>\n",
       "      <td>-122.23</td>\n",
       "      <td>37.88</td>\n",
       "      <td>41.0</td>\n",
       "      <td>880.0</td>\n",
       "      <td>129.0</td>\n",
       "      <td>322.0</td>\n",
       "      <td>126.0</td>\n",
       "      <td>8.3252</td>\n",
       "      <td>452600.0</td>\n",
       "      <td>NEAR BAY</td>\n",
       "    </tr>\n",
       "    <tr>\n",
       "      <th>1</th>\n",
       "      <td>-122.22</td>\n",
       "      <td>37.86</td>\n",
       "      <td>21.0</td>\n",
       "      <td>7099.0</td>\n",
       "      <td>1106.0</td>\n",
       "      <td>2401.0</td>\n",
       "      <td>1138.0</td>\n",
       "      <td>8.3014</td>\n",
       "      <td>358500.0</td>\n",
       "      <td>NEAR BAY</td>\n",
       "    </tr>\n",
       "    <tr>\n",
       "      <th>2</th>\n",
       "      <td>-122.24</td>\n",
       "      <td>37.85</td>\n",
       "      <td>52.0</td>\n",
       "      <td>1467.0</td>\n",
       "      <td>190.0</td>\n",
       "      <td>496.0</td>\n",
       "      <td>177.0</td>\n",
       "      <td>7.2574</td>\n",
       "      <td>352100.0</td>\n",
       "      <td>NEAR BAY</td>\n",
       "    </tr>\n",
       "    <tr>\n",
       "      <th>3</th>\n",
       "      <td>-122.25</td>\n",
       "      <td>37.85</td>\n",
       "      <td>52.0</td>\n",
       "      <td>1274.0</td>\n",
       "      <td>235.0</td>\n",
       "      <td>558.0</td>\n",
       "      <td>219.0</td>\n",
       "      <td>5.6431</td>\n",
       "      <td>341300.0</td>\n",
       "      <td>NEAR BAY</td>\n",
       "    </tr>\n",
       "    <tr>\n",
       "      <th>4</th>\n",
       "      <td>-122.25</td>\n",
       "      <td>37.85</td>\n",
       "      <td>52.0</td>\n",
       "      <td>1627.0</td>\n",
       "      <td>280.0</td>\n",
       "      <td>565.0</td>\n",
       "      <td>259.0</td>\n",
       "      <td>3.8462</td>\n",
       "      <td>342200.0</td>\n",
       "      <td>NEAR BAY</td>\n",
       "    </tr>\n",
       "  </tbody>\n",
       "</table>\n",
       "</div>"
      ],
      "text/plain": [
       "   longitude  latitude  housing_median_age  total_rooms  total_bedrooms  \\\n",
       "0    -122.23     37.88                41.0        880.0           129.0   \n",
       "1    -122.22     37.86                21.0       7099.0          1106.0   \n",
       "2    -122.24     37.85                52.0       1467.0           190.0   \n",
       "3    -122.25     37.85                52.0       1274.0           235.0   \n",
       "4    -122.25     37.85                52.0       1627.0           280.0   \n",
       "\n",
       "   population  households  median_income  median_house_value ocean_proximity  \n",
       "0       322.0       126.0         8.3252            452600.0        NEAR BAY  \n",
       "1      2401.0      1138.0         8.3014            358500.0        NEAR BAY  \n",
       "2       496.0       177.0         7.2574            352100.0        NEAR BAY  \n",
       "3       558.0       219.0         5.6431            341300.0        NEAR BAY  \n",
       "4       565.0       259.0         3.8462            342200.0        NEAR BAY  "
      ]
     },
     "execution_count": 2,
     "metadata": {},
     "output_type": "execute_result"
    }
   ],
   "source": [
    "df = pd.read_csv('housing.csv')\n",
    "df.head()"
   ]
  },
  {
   "cell_type": "markdown",
   "metadata": {},
   "source": [
    "# EDA"
   ]
  },
  {
   "cell_type": "code",
   "execution_count": 3,
   "metadata": {},
   "outputs": [
    {
     "data": {
      "image/png": "[encoded data removed]",
      "text/plain": [
       "<Figure size 640x480 with 1 Axes>"
      ]
     },
     "metadata": {},
     "output_type": "display_data"
    }
   ],
   "source": [
    "plt.hist(df['median_house_value'], bins=10, edgecolor='k')\n",
    "plt.xlabel('Median House Value')\n",
    "plt.ylabel('Frequency')\n",
    "plt.title('Distribution of Median House Value')\n",
    "plt.show()"
   ]
  },
  {
   "cell_type": "markdown",
   "metadata": {},
   "source": [
    "Based on the viz above, it looked that the `median_house_value` column has a long-tail distribution."
   ]
  },
  {
   "cell_type": "markdown",
   "metadata": {},
   "source": [
    "# Prepare the data"
   ]
  },
  {
   "cell_type": "code",
   "execution_count": 4,
   "metadata": {},
   "outputs": [],
   "source": [
    "filtered_df = df[df['ocean_proximity'].isin(['<1H OCEAN', 'INLAND'])]\n",
    "\n",
    "selected_columns = [\n",
    "    'latitude',\n",
    "    'longitude',\n",
    "    'housing_median_age',\n",
    "    'total_rooms',\n",
    "    'total_bedrooms',\n",
    "    'population',\n",
    "    'households',\n",
    "    'median_income',\n",
    "    'median_house_value'\n",
    "]\n",
    "\n",
    "filtered_df = filtered_df[selected_columns].reset_index(drop=True)"
   ]
  },
  {
   "cell_type": "markdown",
   "metadata": {},
   "source": [
    "# Checking missing values"
   ]
  },
  {
   "cell_type": "code",
   "execution_count": 5,
   "metadata": {},
   "outputs": [
    {
     "data": {
      "text/plain": [
       "latitude                0\n",
       "longitude               0\n",
       "housing_median_age      0\n",
       "total_rooms             0\n",
       "total_bedrooms        157\n",
       "population              0\n",
       "households              0\n",
       "median_income           0\n",
       "median_house_value      0\n",
       "dtype: int64"
      ]
     },
     "execution_count": 5,
     "metadata": {},
     "output_type": "execute_result"
    }
   ],
   "source": [
    "filtered_df.isna().sum()"
   ]
  },
  {
   "cell_type": "markdown",
   "metadata": {},
   "source": [
    "One feature that has missing values is `total_bedrooms`"
   ]
  },
  {
   "cell_type": "markdown",
   "metadata": {},
   "source": [
    "# Checking the median"
   ]
  },
  {
   "cell_type": "code",
   "execution_count": 6,
   "metadata": {},
   "outputs": [
    {
     "data": {
      "text/plain": [
       "1195.0"
      ]
     },
     "execution_count": 6,
     "metadata": {},
     "output_type": "execute_result"
    }
   ],
   "source": [
    "filtered_df['population'].median()"
   ]
  },
  {
   "cell_type": "markdown",
   "metadata": {},
   "source": [
    "The median of `population` column is 1195"
   ]
  },
  {
   "cell_type": "markdown",
   "metadata": {},
   "source": [
    "# Split the data"
   ]
  },
  {
   "cell_type": "code",
   "execution_count": 7,
   "metadata": {},
   "outputs": [],
   "source": [
    "# Shuffle the initial dataset\n",
    "shuffled_data = filtered_df.sample(frac=1, random_state=42)\n",
    "\n",
    "# Total size of 60%, 20%, and 20% of the dataset\n",
    "total_samples = len(shuffled_data)\n",
    "train_size = int(0.6 * total_samples)\n",
    "val_size = int(0.2 * total_samples)\n",
    "test_size = total_samples - train_size - val_size\n",
    "\n",
    "# Split the dataset\n",
    "df_train = shuffled_data[:train_size].copy()\n",
    "df_val = shuffled_data[train_size:train_size + val_size].copy()\n",
    "df_test = shuffled_data[train_size + val_size:].copy()\n",
    "\n",
    "# Reset the index\n",
    "df_train = df_train.reset_index(drop=True)\n",
    "df_val = df_val.reset_index(drop=True)\n",
    "df_test = df_test.reset_index(drop=True)\n",
    "\n",
    "# Apply log transformation to 'median_house_value'\n",
    "df_train['median_house_value'] = np.log1p(df_train['median_house_value'].values)\n",
    "df_val['median_house_value'] = np.log1p(df_val['median_house_value'].values)\n",
    "df_test['median_house_value'] = np.log1p(df_test['median_house_value'].values)"
   ]
  },
  {
   "cell_type": "markdown",
   "metadata": {},
   "source": [
    "# Dealing with Missing Values"
   ]
  },
  {
   "cell_type": "code",
   "execution_count": 8,
   "metadata": {},
   "outputs": [],
   "source": [
    "# Copy dataframe untuk menghindari modifikasi pada data asli\n",
    "df_train_zero = df_train.copy()\n",
    "df_val_zero = df_val.copy()\n",
    "df_test_zero = df_test.copy()\n",
    "\n",
    "# Isi missing values dengan 0\n",
    "df_train_zero['total_bedrooms'].fillna(0, inplace=True)\n",
    "df_val_zero['total_bedrooms'].fillna(0, inplace=True)\n",
    "df_test_zero['total_bedrooms'].fillna(0, inplace=True)\n",
    "\n",
    "# Hitung mean dari kolom total_bedrooms di df_train\n",
    "mean_total_bedrooms = df_train['total_bedrooms'].mean()\n",
    "\n",
    "# Copy dataframe untuk menghindari modifikasi pada data asli\n",
    "df_train_mean = df_train.copy()\n",
    "df_val_mean = df_val.copy()\n",
    "df_test_mean = df_test.copy()\n",
    "\n",
    "# Isi missing values dengan mean\n",
    "df_train_mean['total_bedrooms'].fillna(mean_total_bedrooms, inplace=True)\n",
    "df_val_mean['total_bedrooms'].fillna(mean_total_bedrooms, inplace=True)\n",
    "df_test_mean['total_bedrooms'].fillna(mean_total_bedrooms, inplace=True)\n",
    "\n",
    "# Split features and target in df zeros\n",
    "X_train_zero = df_train_zero.drop(columns=['median_house_value']).values\n",
    "X_val_zero = df_val_zero.drop(columns=['median_house_value']).values\n",
    "X_test_zero = df_test_zero.drop(columns=['median_house_value']).values\n",
    "y_train_zero = df_train_zero['median_house_value'].values\n",
    "y_val_zero = df_val_zero['median_house_value'].values\n",
    "y_test_zero = df_test_zero['median_house_value'].values\n",
    "\n",
    "# Split features and target in df mean\n",
    "X_train_mean = df_train_mean.drop(columns=['median_house_value']).values\n",
    "X_val_mean = df_val_mean.drop(columns=['median_house_value']).values\n",
    "X_test_mean = df_test_mean.drop(columns=['median_house_value']).values\n",
    "y_train_mean = df_train_mean['median_house_value'].values\n",
    "y_val_mean = df_val_mean['median_house_value'].values\n",
    "y_test_mean = df_test_mean['median_house_value'].values"
   ]
  },
  {
   "cell_type": "code",
   "execution_count": 9,
   "metadata": {},
   "outputs": [],
   "source": [
    "def train_linear_regression(X, y):\n",
    "    ones = np.ones(X.shape[0])\n",
    "    X = np.column_stack([ones, X])\n",
    "\n",
    "    XTX = X.T.dot(X)\n",
    "    XTX_inv = np.linalg.inv(XTX)\n",
    "    w = XTX_inv.dot(X.T).dot(y)\n",
    "    \n",
    "    return w[0], w[1:]\n",
    "\n",
    "def rmse(y, y_pred):\n",
    "    error = y_pred - y\n",
    "    mse = (error ** 2).mean()\n",
    "    return np.sqrt(mse)"
   ]
  },
  {
   "cell_type": "code",
   "execution_count": 10,
   "metadata": {},
   "outputs": [
    {
     "name": "stdout",
     "output_type": "stream",
     "text": [
      "validation for datasets filled with zero: 0.34\n"
     ]
    }
   ],
   "source": [
    "w_0, w = train_linear_regression(X_train_zero, y_train_zero)\n",
    "\n",
    "y_pred_zero = w_0 + X_val_zero.dot(w)\n",
    "print('validation for datasets filled with zero:', round(rmse(y_val_zero, y_pred_zero),2))"
   ]
  },
  {
   "cell_type": "code",
   "execution_count": 11,
   "metadata": {},
   "outputs": [
    {
     "name": "stdout",
     "output_type": "stream",
     "text": [
      "validation for datasets filled with mean: 0.34\n"
     ]
    }
   ],
   "source": [
    "w_0, w = train_linear_regression(X_train_mean, y_train_mean)\n",
    "\n",
    "y_pred_mean = w_0 + X_val_mean.dot(w)\n",
    "print('validation for datasets filled with mean:', round(rmse(y_val_mean, y_pred_mean),2))"
   ]
  },
  {
   "cell_type": "markdown",
   "metadata": {},
   "source": [
    "We can see from the results above that the RMSE from the zero-filled-dataset and mean-filled-dataset are the **same**. "
   ]
  },
  {
   "cell_type": "markdown",
   "metadata": {},
   "source": [
    "# Using Regularized Linear Regression"
   ]
  },
  {
   "cell_type": "code",
   "execution_count": 12,
   "metadata": {},
   "outputs": [],
   "source": [
    "def train_linear_regression_reg(X, y, r=0.0):\n",
    "    ones = np.ones(X.shape[0])\n",
    "    X = np.column_stack([ones, X])\n",
    "\n",
    "    XTX = X.T.dot(X)\n",
    "    reg = r * np.eye(XTX.shape[0])\n",
    "    XTX = XTX + reg\n",
    "\n",
    "    XTX_inv = np.linalg.inv(XTX)\n",
    "    w = XTX_inv.dot(X.T).dot(y)\n",
    "    \n",
    "    return w[0], w[1:]"
   ]
  },
  {
   "cell_type": "code",
   "execution_count": 13,
   "metadata": {},
   "outputs": [
    {
     "name": "stdout",
     "output_type": "stream",
     "text": [
      "r = 0 0.34\n",
      "r = 1e-06 0.34\n",
      "r = 0.0001 0.34\n",
      "r = 0.001 0.34\n",
      "r = 0.01 0.34\n",
      "r = 0.1 0.34\n",
      "r = 1 0.34\n",
      "r = 5 0.35\n",
      "r = 10 0.35\n"
     ]
    }
   ],
   "source": [
    "for r in [0, 0.000001, 0.0001, 0.001, 0.01, 0.1, 1, 5, 10]:\n",
    "    w_0, w = train_linear_regression_reg(X_train_zero, y_train_zero, r=r)\n",
    "    print('r =', r, round(rmse(y_val_zero, w_0 + X_val_zero.dot(w)),2))"
   ]
  },
  {
   "cell_type": "markdown",
   "metadata": {},
   "source": [
    "Based on the results above, we can see the smallest `r` that give the best RMSE score is **0**."
   ]
  },
  {
   "cell_type": "markdown",
   "metadata": {},
   "source": [
    "# Value of STD"
   ]
  },
  {
   "cell_type": "code",
   "execution_count": 14,
   "metadata": {},
   "outputs": [
    {
     "name": "stdout",
     "output_type": "stream",
     "text": [
      "0.006\n"
     ]
    }
   ],
   "source": [
    "# Daftar seed yang akan diuji\n",
    "seed_values = [0, 1, 2, 3, 4, 5, 6, 7, 8, 9]\n",
    "rmse_scores = []\n",
    "\n",
    "# Loop melalui setiap seed\n",
    "for seed in seed_values:\n",
    "    # Set seed untuk pemisahan data\n",
    "    shuffled_data = filtered_df.sample(frac=1, random_state=seed)\n",
    "    \n",
    "    # Total size of 60%, 20%, and 20% of the dataset\n",
    "    total_samples = len(shuffled_data)\n",
    "    train_size = int(0.6 * total_samples)\n",
    "    val_size = int(0.2 * total_samples)\n",
    "    test_size = total_samples - train_size - val_size\n",
    "\n",
    "    # Split the dataset\n",
    "    df_train = shuffled_data[:train_size].copy()\n",
    "    df_val = shuffled_data[train_size:train_size + val_size].copy()\n",
    "    df_test = shuffled_data[train_size + val_size:].copy()\n",
    "\n",
    "    # Reset the index\n",
    "    df_train = df_train.reset_index(drop=True)\n",
    "    df_val = df_val.reset_index(drop=True)\n",
    "    df_test = df_test.reset_index(drop=True)\n",
    "\n",
    "    # Apply log transformation to 'median_house_value'\n",
    "    df_train['median_house_value'] = np.log1p(df_train['median_house_value'].values)\n",
    "    df_val['median_house_value'] = np.log1p(df_val['median_house_value'].values)\n",
    "    df_test['median_house_value'] = np.log1p(df_test['median_house_value'].values)\n",
    "    \n",
    "    # Isi missing values dengan 0\n",
    "    df_train['total_bedrooms'].fillna(0, inplace=True)\n",
    "    df_val['total_bedrooms'].fillna(0, inplace=True)\n",
    "    df_test['total_bedrooms'].fillna(0, inplace=True)\n",
    "\n",
    "    # Split features and target in df zeros\n",
    "    X_train = df_train.drop(columns=['median_house_value']).values\n",
    "    X_val = df_val.drop(columns=['median_house_value']).values\n",
    "    y_train = df_train['median_house_value'].values\n",
    "    y_val = df_val['median_house_value'].values\n",
    "\n",
    "    w_0, w = train_linear_regression(X_train, y_train)\n",
    "    y_pred = w_0 + X_val.dot(w)\n",
    "    rmse_scores.append(rmse(y_val, y_pred))\n",
    "\n",
    "# Hitung standard deviation dari semua skor RMSE\n",
    "std_deviation = np.std(rmse_scores)\n",
    "\n",
    "# Round standard deviation ke 3 desimal\n",
    "print(round(std_deviation, 3))"
   ]
  },
  {
   "cell_type": "markdown",
   "metadata": {},
   "source": [
    "We can see that the std value is **0.005**"
   ]
  },
  {
   "cell_type": "markdown",
   "metadata": {},
   "source": [
    "# RMSE with seed 9 and r 0.001"
   ]
  },
  {
   "cell_type": "code",
   "execution_count": 15,
   "metadata": {},
   "outputs": [
    {
     "name": "stdout",
     "output_type": "stream",
     "text": [
      "0.3349544624953353\n"
     ]
    }
   ],
   "source": [
    "# Set seed untuk pemisahan data\n",
    "shuffled_data = filtered_df.sample(frac=1, random_state=9)\n",
    "\n",
    "# Total size of 60%, 20%, and 20% of the dataset\n",
    "total_samples = len(shuffled_data)\n",
    "train_size = int(0.6 * total_samples)\n",
    "val_size = int(0.2 * total_samples)\n",
    "test_size = total_samples - train_size - val_size\n",
    "\n",
    "# Split the dataset\n",
    "df_train = shuffled_data[:train_size].copy()\n",
    "df_val = shuffled_data[train_size:train_size + val_size].copy()\n",
    "df_test = shuffled_data[train_size + val_size:].copy()\n",
    "\n",
    "# Reset the index\n",
    "df_train = df_train.reset_index(drop=True)\n",
    "df_val = df_val.reset_index(drop=True)\n",
    "df_test = df_test.reset_index(drop=True)\n",
    "\n",
    "# Apply log transformation to 'median_house_value'\n",
    "df_train['median_house_value'] = np.log1p(df_train['median_house_value'].values)\n",
    "df_val['median_house_value'] = np.log1p(df_val['median_house_value'].values)\n",
    "df_test['median_house_value'] = np.log1p(df_test['median_house_value'].values)\n",
    "\n",
    "# Isi missing values dengan 0\n",
    "df_train['total_bedrooms'].fillna(0, inplace=True)\n",
    "df_val['total_bedrooms'].fillna(0, inplace=True)\n",
    "df_test['total_bedrooms'].fillna(0, inplace=True)\n",
    "\n",
    "# combine the dataset\n",
    "df_combine = pd.concat([df_train, df_val])\n",
    "\n",
    "# Split features and target in df combine\n",
    "X_train = df_combine.drop(columns=['median_house_value']).values\n",
    "X_val = df_test.drop(columns=['median_house_value']).values\n",
    "y_train = df_combine['median_house_value'].values\n",
    "y_val = df_test['median_house_value'].values\n",
    "\n",
    "# train the model\n",
    "w_0, w = train_linear_regression_reg(X_train, y_train, r=0.001)\n",
    "y_pred = w_0 + X_val.dot(w)\n",
    "print(rmse(y_val, y_pred))"
   ]
  },
  {
   "cell_type": "markdown",
   "metadata": {},
   "source": [
    "We can see from result above that the value of RMSE is **0.33**"
   ]
  }
 ],
 "metadata": {
  "kernelspec": {
   "display_name": ".venv",
   "language": "python",
   "name": "python3"
  },
  "language_info": {
   "codemirror_mode": {
    "name": "ipython",
    "version": 3
   },
   "file_extension": ".py",
   "mimetype": "text/x-python",
   "name": "python",
   "nbconvert_exporter": "python",
   "pygments_lexer": "ipython3",
   "version": "3.10.11"
  },
  "orig_nbformat": 4
 },
 "nbformat": 4,
 "nbformat_minor": 2
}
